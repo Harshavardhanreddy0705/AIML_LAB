{
  "nbformat": 4,
  "nbformat_minor": 0,
  "metadata": {
    "colab": {
      "provenance": [],
      "authorship_tag": "ABX9TyP1Xyscdrq/gQGRwZv2Ttp+",
      "include_colab_link": true
    },
    "kernelspec": {
      "name": "python3",
      "display_name": "Python 3"
    },
    "language_info": {
      "name": "python"
    }
  },
  "cells": [
    {
      "cell_type": "markdown",
      "metadata": {
        "id": "view-in-github",
        "colab_type": "text"
      },
      "source": [
        "<a href=\"https://colab.research.google.com/github/Harshavardhanreddy0705/AIML_LAB/blob/main/DFS.ipynb\" target=\"_parent\"><img src=\"https://colab.research.google.com/assets/colab-badge.svg\" alt=\"Open In Colab\"/></a>"
      ]
    },
    {
      "cell_type": "code",
      "execution_count": 1,
      "metadata": {
        "colab": {
          "base_uri": "https://localhost:8080/"
        },
        "id": "My4hsmNyU5QO",
        "outputId": "2ddfee95-92cd-4d95-9619-c45e17b35180"
      },
      "outputs": [
        {
          "output_type": "stream",
          "name": "stdout",
          "text": [
            "A\n",
            "B\n",
            "D\n",
            "E\n",
            "F\n",
            "C\n"
          ]
        }
      ],
      "source": [
        "def dfs_recursive(graph, node, visited):\n",
        "    if node not in visited:\n",
        "        print(node)  # Process the node\n",
        "        visited.add(node)\n",
        "        for neighbor in graph[node]:\n",
        "            dfs_recursive(graph, neighbor, visited)\n",
        "\n",
        "# Example graph as an adjacency list\n",
        "graph = {\n",
        "    'A': ['B', 'C'],\n",
        "    'B': ['D', 'E'],\n",
        "    'C': ['F'],\n",
        "    'D': [],\n",
        "    'E': ['F'],\n",
        "    'F': []\n",
        "}\n",
        "\n",
        "visited = set()\n",
        "dfs_recursive(graph, 'A', visited)\n"
      ]
    }
  ]
}