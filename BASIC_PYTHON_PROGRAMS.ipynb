{
  "nbformat": 4,
  "nbformat_minor": 0,
  "metadata": {
    "colab": {
      "provenance": [],
      "authorship_tag": "ABX9TyP6Zz5o2+WCyu0a5TxW+K87",
      "include_colab_link": true
    },
    "kernelspec": {
      "name": "python3",
      "display_name": "Python 3"
    },
    "language_info": {
      "name": "python"
    }
  },
  "cells": [
    {
      "cell_type": "markdown",
      "metadata": {
        "id": "view-in-github",
        "colab_type": "text"
      },
      "source": [
        "<a href=\"https://colab.research.google.com/github/Harshavardhanreddy0705/AIML_LAB/blob/main/BASIC_PYTHON_PROGRAMS.ipynb\" target=\"_parent\"><img src=\"https://colab.research.google.com/assets/colab-badge.svg\" alt=\"Open In Colab\"/></a>"
      ]
    },
    {
      "cell_type": "markdown",
      "source": [
        "BASIC ARTHIMETIC OPERATIONS"
      ],
      "metadata": {
        "id": "48uNFxs2ZIBd"
      }
    },
    {
      "cell_type": "code",
      "source": [
        "# Arithmetic operations\n",
        "a = 10\n",
        "b = 5\n",
        "\n",
        "# Addition\n",
        "add = a + b\n",
        "print(\"Addition:\", add)\n",
        "\n",
        "# Subtraction\n",
        "subtract = a - b\n",
        "print(\"Subtraction:\", subtract)\n",
        "\n",
        "# Multiplication\n",
        "multiply = a * b\n",
        "print(\"Multiplication:\", multiply)\n",
        "\n",
        "# Division\n",
        "divide = a / b\n",
        "print(\"Division:\", divide)\n"
      ],
      "metadata": {
        "id": "lOk-zj72ZLFx",
        "outputId": "7f2ecf49-923d-476f-f6d3-e1c203bad7ea",
        "colab": {
          "base_uri": "https://localhost:8080/"
        }
      },
      "execution_count": null,
      "outputs": [
        {
          "output_type": "stream",
          "name": "stdout",
          "text": [
            "Addition: 15\n",
            "Subtraction: 5\n",
            "Multiplication: 50\n",
            "Division: 2.0\n"
          ]
        }
      ]
    },
    {
      "cell_type": "markdown",
      "source": [
        "2.CHECK EVEN OR ODD"
      ],
      "metadata": {
        "id": "A5sXHi-aZOC4"
      }
    },
    {
      "cell_type": "code",
      "source": [
        "# Check if number is even or odd\n",
        "num = int(input(\"Enter a number: \"))\n",
        "\n",
        "if num % 2 == 0:\n",
        "    print(f\"{num} is even\")\n",
        "else:\n",
        "    print(f\"{num} is odd\")\n"
      ],
      "metadata": {
        "id": "auzGSwELZX-J"
      },
      "execution_count": null,
      "outputs": []
    },
    {
      "cell_type": "markdown",
      "source": [
        "3.FIND THE LARGEST NUMBER"
      ],
      "metadata": {
        "id": "ZYEqpApUZcmv"
      }
    },
    {
      "cell_type": "code",
      "source": [
        "# Find the largest of three numbers\n",
        "a = int(input(\"Enter first number: \"))\n",
        "b = int(input(\"Enter second number: \"))\n",
        "c = int(input(\"Enter third number: \"))\n",
        "\n",
        "if a >= b and a >= c:\n",
        "    print(f\"The largest number is {a}\")\n",
        "elif b >= a and b >= c:\n",
        "    print(f\"The largest number is {b}\")\n",
        "else:\n",
        "    print(f\"The largest number is {c}\")\n"
      ],
      "metadata": {
        "id": "qGx7Kh3cZgTK"
      },
      "execution_count": null,
      "outputs": []
    },
    {
      "cell_type": "markdown",
      "source": [
        "4.SIMPLE CALCULATOR"
      ],
      "metadata": {
        "id": "9SGlXdCAZiMz"
      }
    },
    {
      "cell_type": "code",
      "source": [
        "# Simple calculator using functions\n",
        "def add(x, y):\n",
        "    return x + y\n",
        "\n",
        "def subtract(x, y):\n",
        "    return x - y\n",
        "\n",
        "def multiply(x, y):\n",
        "    return x * y\n",
        "\n",
        "def divide(x, y):\n",
        "    if y == 0:\n",
        "        return \"Cannot divide by zero!\"\n",
        "    return x / y\n",
        "\n",
        "print(\"Select operation:\")\n",
        "print(\"1. Add\")\n",
        "print(\"2. Subtract\")\n",
        "print(\"3. Multiply\")\n",
        "print(\"4. Divide\")\n",
        "\n",
        "choice = input(\"Enter choice (1/2/3/4): \")\n",
        "\n",
        "num1 = float(input(\"Enter first number: \"))\n",
        "num2 = float(input(\"Enter second number: \"))\n",
        "\n",
        "if choice == '1':\n",
        "    print(f\"Result: {add(num1, num2)}\")\n",
        "elif choice == '2':\n",
        "    print(f\"Result: {subtract(num1, num2)}\")\n",
        "elif choice == '3':\n",
        "    print(f\"Result: {multiply(num1, num2)}\")\n",
        "elif choice == '4':\n",
        "    print(f\"Result: {divide(num1, num2)}\")\n",
        "else:\n",
        "    print(\"Invalid input\")\n"
      ],
      "metadata": {
        "id": "MTlUpqSVZmTY"
      },
      "execution_count": null,
      "outputs": []
    },
    {
      "cell_type": "markdown",
      "source": [
        "5.FACTORIAL OF A NUMBER"
      ],
      "metadata": {
        "id": "R7Q4PiOWZoHU"
      }
    },
    {
      "cell_type": "code",
      "source": [
        "# Factorial of a number\n",
        "num = int(input(\"Enter a number: \"))\n",
        "factorial = 1\n",
        "\n",
        "if num < 0:\n",
        "    print(\"Factorial does not exist for negative numbers\")\n",
        "elif num == 0:\n",
        "    print(\"The factorial of 0 is 1\")\n",
        "else:\n",
        "    for i in range(1, num + 1):\n",
        "        factorial *= i\n",
        "    print(f\"The factorial of {num} is {factorial}\")\n"
      ],
      "metadata": {
        "id": "HuPqvi-HZqF4"
      },
      "execution_count": null,
      "outputs": []
    },
    {
      "cell_type": "markdown",
      "source": [
        "6.FIBONACCI SEQUENCE"
      ],
      "metadata": {
        "id": "QB3Im5HaZrZN"
      }
    },
    {
      "cell_type": "code",
      "source": [
        "# Fibonacci sequence up to n terms\n",
        "n_terms = int(input(\"Enter the number of terms: \"))\n",
        "\n",
        "# First two terms\n",
        "n1, n2 = 0, 1\n",
        "count = 0\n",
        "\n",
        "# Check if the number of terms is valid\n",
        "if n_terms <= 0:\n",
        "    print(\"Please enter a positive integer\")\n",
        "elif n_terms == 1:\n",
        "    print(\"Fibonacci sequence:\", n1)\n",
        "else:\n",
        "    print(\"Fibonacci sequence:\")\n",
        "    while count < n_terms:\n",
        "        print(n1, end=\" \")\n",
        "        nth = n1 + n2\n",
        "        # Update values\n",
        "        n1 = n2\n",
        "        n2 = nth\n",
        "        count += 1\n"
      ],
      "metadata": {
        "id": "8ifgt1TLZxnj"
      },
      "execution_count": null,
      "outputs": []
    }
  ]
}