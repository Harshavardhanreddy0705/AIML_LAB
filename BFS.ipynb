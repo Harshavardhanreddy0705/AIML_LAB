{
  "nbformat": 4,
  "nbformat_minor": 0,
  "metadata": {
    "colab": {
      "provenance": [],
      "authorship_tag": "ABX9TyNZ/eFkXkLRR3zI6CD6KeGJ",
      "include_colab_link": true
    },
    "kernelspec": {
      "name": "python3",
      "display_name": "Python 3"
    },
    "language_info": {
      "name": "python"
    }
  },
  "cells": [
    {
      "cell_type": "markdown",
      "metadata": {
        "id": "view-in-github",
        "colab_type": "text"
      },
      "source": [
        "<a href=\"https://colab.research.google.com/github/Harshavardhanreddy0705/AIML_LAB/blob/main/BFS.ipynb\" target=\"_parent\"><img src=\"https://colab.research.google.com/assets/colab-badge.svg\" alt=\"Open In Colab\"/></a>"
      ]
    },
    {
      "cell_type": "code",
      "execution_count": null,
      "metadata": {
        "id": "MrnXJIdkUlx5"
      },
      "outputs": [],
      "source": [
        "from collections import deque\n",
        "\n",
        "# BFS function\n",
        "def bfs(graph, start):\n",
        "    # Create a queue for BFS\n",
        "    queue = deque([start])\n",
        "\n",
        "    # Set of visited nodes\n",
        "    visited = set([start])\n",
        "\n",
        "    # Continue the loop until the queue is empty\n",
        "    while queue:\n",
        "        # Dequeue a vertex from queue\n",
        "        node = queue.popleft()\n",
        "        print(node, end=\" \")  # Process the current node\n",
        "\n",
        "        # Get all adjacent vertices of the dequeued vertex\n",
        "        for neighbor in graph[node]:\n",
        "            if neighbor not in visited:\n",
        "                queue.append(neighbor)\n",
        "                visited.add(neighbor)\n",
        "\n",
        "# Example graph as an adjacency list\n",
        "graph = {\n",
        "    'A': ['B', 'C'],\n",
        "    'B': ['D', 'E'],\n",
        "    'C': ['F'],\n",
        "    'D': [],\n",
        "    'E': ['F'],\n",
        "    'F': []\n",
        "}\n",
        "\n",
        "# Perform BFS starting from node 'A'\n",
        "bfs(graph, 'A')\n"
      ]
    }
  ]
}