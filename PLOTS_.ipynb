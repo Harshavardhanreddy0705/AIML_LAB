{
  "nbformat": 4,
  "nbformat_minor": 0,
  "metadata": {
    "colab": {
      "provenance": [],
      "authorship_tag": "ABX9TyMiWhrVwsrvT8+vG5/9ZCFn",
      "include_colab_link": true
    },
    "kernelspec": {
      "name": "python3",
      "display_name": "Python 3"
    },
    "language_info": {
      "name": "python"
    }
  },
  "cells": [
    {
      "cell_type": "markdown",
      "metadata": {
        "id": "view-in-github",
        "colab_type": "text"
      },
      "source": [
        "<a href=\"https://colab.research.google.com/github/Harshavardhanreddy0705/AIML_LAB/blob/main/PLOTS_.ipynb\" target=\"_parent\"><img src=\"https://colab.research.google.com/assets/colab-badge.svg\" alt=\"Open In Colab\"/></a>"
      ]
    },
    {
      "cell_type": "code",
      "execution_count": null,
      "metadata": {
        "id": "P-P0TxI0Wkai"
      },
      "outputs": [],
      "source": [
        "pip install matplotlib seaborn\n"
      ]
    },
    {
      "cell_type": "markdown",
      "source": [
        "1.BAR PLOT"
      ],
      "metadata": {
        "id": "ekyfHvUCWpyo"
      }
    },
    {
      "cell_type": "code",
      "source": [
        "import matplotlib.pyplot as plt\n",
        "\n",
        "categories = ['A', 'B', 'C', 'D']\n",
        "values = [3, 7, 5, 2]\n",
        "\n",
        "plt.bar(categories, values)\n",
        "plt.title('Bar Plot Example')\n",
        "plt.xlabel('Categories')\n",
        "plt.ylabel('Values')\n",
        "plt.show()\n"
      ],
      "metadata": {
        "id": "cPIG1dkYW6ER"
      },
      "execution_count": null,
      "outputs": []
    },
    {
      "cell_type": "markdown",
      "source": [
        "2.SCATTER PLOT"
      ],
      "metadata": {
        "id": "nxAy3fuRXClo"
      }
    },
    {
      "cell_type": "code",
      "source": [
        "import matplotlib.pyplot as plt\n",
        "\n",
        "x = [1, 2, 3, 4, 5]\n",
        "y = [2, 3, 5, 7, 11]\n",
        "\n",
        "plt.scatter(x, y)\n",
        "plt.title('Scatter Plot Example')\n",
        "plt.xlabel('X-axis')\n",
        "plt.ylabel('Y-axis')\n",
        "plt.show()\n"
      ],
      "metadata": {
        "id": "oVTHVF0YXFEs"
      },
      "execution_count": null,
      "outputs": []
    },
    {
      "cell_type": "markdown",
      "source": [],
      "metadata": {
        "id": "6cJuvB-NXHSk"
      }
    },
    {
      "cell_type": "markdown",
      "source": [
        "3.HISTOGRAM"
      ],
      "metadata": {
        "id": "E0g-XTanXHsw"
      }
    },
    {
      "cell_type": "code",
      "source": [
        "import matplotlib.pyplot as plt\n",
        "import numpy as np\n",
        "\n",
        "data = np.random.randn(1000)  # Generate random data\n",
        "\n",
        "plt.hist(data, bins=30, alpha=0.7, color='blue')\n",
        "plt.title('Histogram Example')\n",
        "plt.xlabel('Value')\n",
        "plt.ylabel('Frequency')\n",
        "plt.show()\n"
      ],
      "metadata": {
        "id": "VMnvY7C9XJ5U"
      },
      "execution_count": null,
      "outputs": []
    },
    {
      "cell_type": "markdown",
      "source": [
        "4.BOX PLOT"
      ],
      "metadata": {
        "id": "jX4Kq6GRXMqw"
      }
    },
    {
      "cell_type": "code",
      "source": [
        "import matplotlib.pyplot as plt\n",
        "import numpy as np\n",
        "\n",
        "data = [np.random.normal(0, std, 100) for std in range(1, 4)]\n",
        "\n",
        "plt.boxplot(data, vert=True, patch_artist=True)\n",
        "plt.title('Box Plot Example')\n",
        "plt.xlabel('Distribution')\n",
        "plt.ylabel('Value')\n",
        "plt.xticks([1, 2, 3], ['std=1', 'std=2', 'std=3'])\n",
        "plt.show()\n"
      ],
      "metadata": {
        "id": "MFR71QXeXOou"
      },
      "execution_count": null,
      "outputs": []
    },
    {
      "cell_type": "markdown",
      "source": [
        "5.LINE PLOT"
      ],
      "metadata": {
        "id": "MhgpHrNlXRth"
      }
    },
    {
      "cell_type": "code",
      "source": [
        "import matplotlib.pyplot as plt\n",
        "\n",
        "x = [1, 2, 3, 4, 5]\n",
        "y = [1, 4, 9, 16, 25]\n",
        "\n",
        "plt.plot(x, y, marker='o')\n",
        "plt.title('Line Plot Example')\n",
        "plt.xlabel('X-axis')\n",
        "plt.ylabel('Y-axis')\n",
        "plt.grid(True)\n",
        "plt.show()\n"
      ],
      "metadata": {
        "id": "VTWfMxwiXUA8"
      },
      "execution_count": null,
      "outputs": []
    },
    {
      "cell_type": "markdown",
      "source": [
        "PAIR PLOT"
      ],
      "metadata": {
        "id": "08TMwSLsXaSO"
      }
    },
    {
      "cell_type": "code",
      "source": [
        "import seaborn as sns\n",
        "import matplotlib.pyplot as plt\n",
        "import pandas as pd\n",
        "\n",
        "# Create a sample DataFrame\n",
        "data = pd.DataFrame({\n",
        "    'A': np.random.rand(100),\n",
        "    'B': np.random.rand(100),\n",
        "    'C': np.random.rand(100)\n",
        "})\n",
        "\n",
        "sns.pairplot(data)\n",
        "plt.title('Pair Plot Example')\n",
        "plt.show()\n"
      ],
      "metadata": {
        "id": "-ClfQTsbXihP"
      },
      "execution_count": null,
      "outputs": []
    }
  ]
}