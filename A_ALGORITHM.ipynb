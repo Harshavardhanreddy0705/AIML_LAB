{
  "nbformat": 4,
  "nbformat_minor": 0,
  "metadata": {
    "colab": {
      "provenance": [],
      "authorship_tag": "ABX9TyMUVwpgwpFOmfENeRqIaiwG",
      "include_colab_link": true
    },
    "kernelspec": {
      "name": "python3",
      "display_name": "Python 3"
    },
    "language_info": {
      "name": "python"
    }
  },
  "cells": [
    {
      "cell_type": "markdown",
      "metadata": {
        "id": "view-in-github",
        "colab_type": "text"
      },
      "source": [
        "<a href=\"https://colab.research.google.com/github/Harshavardhanreddy0705/AIML_LAB/blob/main/A_ALGORITHM.ipynb\" target=\"_parent\"><img src=\"https://colab.research.google.com/assets/colab-badge.svg\" alt=\"Open In Colab\"/></a>"
      ]
    },
    {
      "cell_type": "code",
      "execution_count": null,
      "metadata": {
        "id": "yMe73p3qYa74"
      },
      "outputs": [],
      "source": [
        "import heapq\n",
        "\n",
        "class Node:\n",
        "    def __init__(self, position, g=0, h=0):\n",
        "        self.position = position  # (x, y) coordinates\n",
        "        self.g = g  # Cost from start to this node\n",
        "        self.h = h  # Heuristic cost to goal\n",
        "        self.f = g + h  # Total cost\n",
        "\n",
        "    def __lt__(self, other):\n",
        "        return self.f < other.f\n",
        "\n",
        "def heuristic(a, b):\n",
        "    # Using Manhattan distance as the heuristic\n",
        "    return abs(a[0] - b[0]) + abs(a[1] - b[1])\n",
        "\n",
        "def a_star(start, goal, grid):\n",
        "    open_list = []\n",
        "    closed_set = set()\n",
        "    start_node = Node(start, 0, heuristic(start, goal))\n",
        "    heapq.heappush(open_list, start_node)\n",
        "\n",
        "    while open_list:\n",
        "        current_node = heapq.heappop(open_list)\n",
        "        closed_set.add(current_node.position)\n",
        "\n",
        "        # Check if we've reached the goal\n",
        "        if current_node.position == goal:\n",
        "            return reconstruct_path(current_node)\n",
        "\n",
        "        # Explore neighbors\n",
        "        for dx, dy in [(-1, 0), (1, 0), (0, -1), (0, 1)]:  # 4-directional movement\n",
        "            neighbor_pos = (current_node.position[0] + dx, current_node.position[1] + dy)\n",
        "\n",
        "            # Check if neighbor is within bounds and not an obstacle\n",
        "            if (0 <= neighbor_pos[0] < len(grid) and\n",
        "                    0 <= neighbor_pos[1] < len(grid[0]) and\n",
        "                    grid[neighbor_pos[0]][neighbor_pos[1]] == 0 and\n",
        "                    neighbor_pos not in closed_set):\n",
        "\n",
        "                g_cost = current_node.g + 1\n",
        "                h_cost = heuristic(neighbor_pos, goal)\n",
        "                neighbor_node = Node(neighbor_pos, g_cost, h_cost)\n",
        "\n",
        "                # Check if neighbor is already in open list with a higher cost\n",
        "                if not any(node.position == neighbor_pos and node.g <= g_cost for node in open_list):\n",
        "                    heapq.heappush(open_list, neighbor_node)\n",
        "\n",
        "    return []  # No path found\n",
        "\n",
        "def reconstruct_path(node):\n",
        "    path = []\n",
        "    while node:\n",
        "        path.append(node.position)\n",
        "        node = node.parent  # Adjust this line if needed to keep track of parent nodes\n",
        "    return path[::-1]  # Reverse the path\n",
        "\n",
        "# Example usage\n",
        "grid = [\n",
        "    [0, 0, 0, 0, 0],\n",
        "    [0, 1, 1, 1, 0],\n",
        "    [0, 0, 0, 0, 0],\n",
        "    [0, 1, 1, 0, 0],\n",
        "    [0, 0, 0, 0, 0]\n",
        "]\n",
        "\n",
        "start = (0, 0)  # Starting position\n",
        "goal = (4, 4)   # Goal position\n",
        "\n",
        "path = a_star(start, goal, grid)\n",
        "print(\"Path from start to goal:\", path)\n"
      ]
    }
  ]
}