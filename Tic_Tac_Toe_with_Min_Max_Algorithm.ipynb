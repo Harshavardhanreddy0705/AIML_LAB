{
  "nbformat": 4,
  "nbformat_minor": 0,
  "metadata": {
    "colab": {
      "provenance": [],
      "authorship_tag": "ABX9TyPSjGgp3Yet7ZDplYgsrCCB",
      "include_colab_link": true
    },
    "kernelspec": {
      "name": "python3",
      "display_name": "Python 3"
    },
    "language_info": {
      "name": "python"
    }
  },
  "cells": [
    {
      "cell_type": "markdown",
      "metadata": {
        "id": "view-in-github",
        "colab_type": "text"
      },
      "source": [
        "<a href=\"https://colab.research.google.com/github/Harshavardhanreddy0705/AIML_LAB/blob/main/Tic_Tac_Toe_with_Min_Max_Algorithm.ipynb\" target=\"_parent\"><img src=\"https://colab.research.google.com/assets/colab-badge.svg\" alt=\"Open In Colab\"/></a>"
      ]
    },
    {
      "cell_type": "code",
      "execution_count": null,
      "metadata": {
        "id": "X_d0YY7ZkhnJ"
      },
      "outputs": [],
      "source": [
        "# Represent the Tic-Tac-Toe board as a list of 9 elements\n",
        "# 'X' is the maximizing player, 'O' is the minimizing player, and '' is an empty space\n",
        "\n",
        "def print_board(board):\n",
        "    \"\"\"Helper function to print the Tic-Tac-Toe board.\"\"\"\n",
        "    print(f\"{board[0]} | {board[1]} | {board[2]}\")\n",
        "    print(\"--+---+--\")\n",
        "    print(f\"{board[3]} | {board[4]} | {board[5]}\")\n",
        "    print(\"--+---+--\")\n",
        "    print(f\"{board[6]} | {board[7]} | {board[8]}\")\n",
        "    print()\n",
        "\n",
        "def check_winner(board):\n",
        "    \"\"\"Check if there is a winner.\"\"\"\n",
        "    win_combinations = [(0, 1, 2), (3, 4, 5), (6, 7, 8),\n",
        "                        (0, 3, 6), (1, 4, 7), (2, 5, 8),\n",
        "                        (0, 4, 8), (2, 4, 6)]\n",
        "\n",
        "    for (a, b, c) in win_combinations:\n",
        "        if board[a] == board[b] == board[c] and board[a] != '':\n",
        "            return board[a]\n",
        "\n",
        "    if '' not in board:\n",
        "        return 'Draw'\n",
        "\n",
        "    return None\n",
        "\n",
        "def minmax(board, depth, is_maximizing):\n",
        "    \"\"\"Min-Max algorithm implementation.\"\"\"\n",
        "    winner = check_winner(board)\n",
        "\n",
        "    if winner == 'X':\n",
        "        return 10 - depth\n",
        "    if winner == 'O':\n",
        "        return depth - 10\n",
        "    if winner == 'Draw':\n",
        "        return 0\n",
        "\n",
        "    if is_maximizing:\n",
        "        max_eval = float('-inf')\n",
        "        for i in range(9):\n",
        "            if board[i] == '':\n",
        "                board[i] = 'X'\n",
        "                eval = minmax(board, depth + 1, False)\n",
        "                board[i] = ''\n",
        "                max_eval = max(max_eval, eval)\n",
        "        return max_eval\n",
        "    else:\n",
        "        min_eval = float('inf')\n",
        "        for i in range(9):\n",
        "            if board[i] == '':\n",
        "                board[i] = 'O'\n",
        "                eval = minmax(board, depth + 1, True)\n",
        "                board[i] = ''\n",
        "                min_eval = min(min_eval, eval)\n",
        "        return min_eval\n",
        "\n",
        "def best_move(board):\n",
        "    \"\"\"Find the best move for the maximizing player 'X'.\"\"\"\n",
        "    best_val = float('-inf')\n",
        "    move = -1\n",
        "    for i in range(9):\n",
        "        if board[i] == '':\n",
        "            board[i] = 'X'\n",
        "            move_val = minmax(board, 0, False)\n",
        "            board[i] = ''\n",
        "            if move_val > best_val:\n",
        "                best_val = move_val\n",
        "                move = i\n",
        "    return move\n",
        "\n",
        "# Example usage:\n",
        "if __name__ == \"__main__\":\n",
        "    board = ['X', 'O', 'X',\n",
        "             'O', 'X', '',\n",
        "             '',  '', 'O']\n",
        "\n",
        "    print(\"Current Board:\")\n",
        "    print_board(board)\n",
        "\n",
        "    move = best_move(board)\n",
        "    print(f\"The best move for 'X' is at position {move}\")\n",
        "    board[move] = 'X'\n",
        "\n",
        "    print(\"Board after 'X' move:\")\n",
        "    print_board(board)\n"
      ]
    }
  ]
}